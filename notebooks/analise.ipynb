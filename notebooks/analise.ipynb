{
 "cells": [
  {
   "cell_type": "markdown",
   "id": "a13f66fa",
   "metadata": {},
   "source": [
    "## Importando as bibliotecas"
   ]
  },
  {
   "cell_type": "code",
   "execution_count": 3,
   "id": "b5e93798",
   "metadata": {},
   "outputs": [],
   "source": [
    "import pandas as pd\n",
    "import seaborn as sns\n",
    "import matplotlib.pyplot as plt\n",
    "import numpy as np"
   ]
  },
  {
   "cell_type": "markdown",
   "id": "b0bca9d0",
   "metadata": {},
   "source": [
    "## 1. Coleta de dados"
   ]
  },
  {
   "cell_type": "code",
   "execution_count": 4,
   "id": "2629c1d0",
   "metadata": {},
   "outputs": [],
   "source": [
    "# Lendos os arquivos com enconding e separadores\n",
    "\n",
    "df_dados_clinicos = pd.read_csv('../data/dados_clinicos.csv', \n",
    "                                sep='|', \n",
    "                                encoding='latin1')\n",
    "\n",
    "df_dados_pacientes = pd.read_csv('../data/dados_pacientes.csv', \n",
    "                                sep=';', \n",
    "                                encoding='latin1')\n",
    "\n",
    "df_dados_estado = pd.read_csv('../data/estado_regiao.csv', \n",
    "                                sep=';', \n",
    "                                encoding='latin1')"
   ]
  },
  {
   "cell_type": "markdown",
   "id": "1c35020b",
   "metadata": {},
   "source": [
    "## 2. Analise  Tratamento dos Dados"
   ]
  },
  {
   "cell_type": "markdown",
   "id": "30adf2c2",
   "metadata": {},
   "source": [
    "### 2.1 Analise e Tratamento dataset: Dados Clinicos"
   ]
  },
  {
   "cell_type": "code",
   "execution_count": 5,
   "id": "660ff4cf",
   "metadata": {},
   "outputs": [
    {
     "data": {
      "text/html": [
       "<div>\n",
       "<style scoped>\n",
       "    .dataframe tbody tr th:only-of-type {\n",
       "        vertical-align: middle;\n",
       "    }\n",
       "\n",
       "    .dataframe tbody tr th {\n",
       "        vertical-align: top;\n",
       "    }\n",
       "\n",
       "    .dataframe thead th {\n",
       "        text-align: right;\n",
       "    }\n",
       "</style>\n",
       "<table border=\"1\" class=\"dataframe\">\n",
       "  <thead>\n",
       "    <tr style=\"text-align: right;\">\n",
       "      <th></th>\n",
       "      <th>id_cliente</th>\n",
       "      <th>peso</th>\n",
       "      <th>colesterol</th>\n",
       "      <th>genero</th>\n",
       "    </tr>\n",
       "  </thead>\n",
       "  <tbody>\n",
       "    <tr>\n",
       "      <th>0</th>\n",
       "      <td>1</td>\n",
       "      <td>152.7</td>\n",
       "      <td>203.9</td>\n",
       "      <td>Masculino</td>\n",
       "    </tr>\n",
       "    <tr>\n",
       "      <th>1</th>\n",
       "      <td>2</td>\n",
       "      <td>184.8</td>\n",
       "      <td>233.8</td>\n",
       "      <td>Masculino</td>\n",
       "    </tr>\n",
       "    <tr>\n",
       "      <th>2</th>\n",
       "      <td>3</td>\n",
       "      <td>152.1</td>\n",
       "      <td>210.4</td>\n",
       "      <td>Masculino</td>\n",
       "    </tr>\n",
       "    <tr>\n",
       "      <th>3</th>\n",
       "      <td>4</td>\n",
       "      <td>139.8</td>\n",
       "      <td>196.8</td>\n",
       "      <td>Masculino</td>\n",
       "    </tr>\n",
       "    <tr>\n",
       "      <th>4</th>\n",
       "      <td>5</td>\n",
       "      <td>182.4</td>\n",
       "      <td>215.8</td>\n",
       "      <td>Feminino</td>\n",
       "    </tr>\n",
       "  </tbody>\n",
       "</table>\n",
       "</div>"
      ],
      "text/plain": [
       "   id_cliente   peso  colesterol     genero\n",
       "0           1  152.7       203.9  Masculino\n",
       "1           2  184.8       233.8  Masculino\n",
       "2           3  152.1       210.4  Masculino\n",
       "3           4  139.8       196.8  Masculino\n",
       "4           5  182.4       215.8   Feminino"
      ]
     },
     "execution_count": 5,
     "metadata": {},
     "output_type": "execute_result"
    }
   ],
   "source": [
    "df_dados_clinicos.head()"
   ]
  },
  {
   "cell_type": "code",
   "execution_count": 6,
   "id": "a89dff57",
   "metadata": {},
   "outputs": [
    {
     "data": {
      "text/plain": [
       "(10301, 4)"
      ]
     },
     "execution_count": 6,
     "metadata": {},
     "output_type": "execute_result"
    }
   ],
   "source": [
    "df_dados_clinicos.shape\n",
    "\n",
    "#observado pelo shape que se trata de 10301 linhas e 4 colunas"
   ]
  },
  {
   "cell_type": "code",
   "execution_count": 7,
   "id": "a6ed3da3",
   "metadata": {},
   "outputs": [
    {
     "name": "stdout",
     "output_type": "stream",
     "text": [
      "<class 'pandas.core.frame.DataFrame'>\n",
      "RangeIndex: 10301 entries, 0 to 10300\n",
      "Data columns (total 4 columns):\n",
      " #   Column      Non-Null Count  Dtype  \n",
      "---  ------      --------------  -----  \n",
      " 0   id_cliente  10301 non-null  int64  \n",
      " 1   peso        10288 non-null  float64\n",
      " 2   colesterol  10301 non-null  float64\n",
      " 3   genero      10291 non-null  object \n",
      "dtypes: float64(2), int64(1), object(1)\n",
      "memory usage: 322.0+ KB\n"
     ]
    }
   ],
   "source": [
    "# pelo info foi verificado que há dados nulos no dataset\n",
    "df_dados_clinicos.info()"
   ]
  },
  {
   "cell_type": "code",
   "execution_count": 8,
   "id": "25f50f15",
   "metadata": {},
   "outputs": [
    {
     "name": "stdout",
     "output_type": "stream",
     "text": [
      "301\n"
     ]
    }
   ],
   "source": [
    "# checando tbm se há linha duplicadas, visto que se trata de dados por id do cliente\n",
    "\n",
    "print(df_dados_clinicos['id_cliente'].duplicated().sum())\n",
    "\n",
    "# foi observado 301 linhas duplicadas de id do cliente"
   ]
  },
  {
   "cell_type": "code",
   "execution_count": 9,
   "id": "9055ab5e",
   "metadata": {},
   "outputs": [
    {
     "name": "stdout",
     "output_type": "stream",
     "text": [
      "[1251, 1202, 1203, 1204, 1205, 1206, 1207, 1208, 1209, 1210, 1211, 1212, 1213, 1214, 1215, 1216, 1217, 1218, 1219, 1220, 1221, 1222, 1223, 1224, 1225, 1226, 1227, 1228, 1229, 1230, 1231, 1232, 1233, 1234, 1235, 1236, 1237, 1238, 1239, 1240, 1241, 1242, 1243, 1244, 1245, 1246, 1247, 1248, 1249, 1250, 1300, 1252, 1253, 1254, 1255, 1256, 1257, 1258, 1259, 1260, 1261, 1262, 1263, 1264, 1265, 1266, 1267, 1268, 1269, 1270, 1271, 1272, 1273, 1274, 1275, 1276, 1277, 1278, 1279, 1280, 1281, 1282, 1283, 1284, 1285, 1286, 1287, 1288, 1289, 1290, 1291, 1292, 1293, 1294, 1295, 1296, 1297, 1298, 1299, 1000, 1001, 1002, 1003, 1004, 1005, 1006, 1007, 1008, 1009, 1010, 1011, 1012, 1013, 1014, 1015, 1016, 1017, 1018, 1019, 1020, 1021, 1022, 1023, 1024, 1025, 1026, 1027, 1028, 1029, 1030, 1031, 1032, 1033, 1034, 1035, 1036, 1037, 1038, 1039, 1040, 1041, 1042, 1043, 1044, 1045, 1046, 1047, 1048, 1049, 1050, 1051, 1052, 1053, 1054, 1055, 1056, 1057, 1058, 1059, 1060, 1061, 1062, 1063, 1064, 1065, 1066, 1067, 1068, 1069, 1070, 1071, 1072, 1073, 1074, 1075, 1076, 1077, 1078, 1079, 1080, 1081, 1082, 1083, 1084, 1085, 1086, 1087, 1088, 1089, 1090, 1091, 1092, 1093, 1094, 1095, 1096, 1097, 1098, 1099, 1100, 1101, 1102, 1103, 1104, 1105, 1106, 1107, 1108, 1109, 1110, 1111, 1112, 1113, 1114, 1115, 1116, 1117, 1118, 1119, 1120, 1121, 1122, 1123, 1124, 1125, 1126, 1127, 1128, 1129, 1130, 1131, 1132, 1133, 1134, 1135, 1136, 1137, 1138, 1139, 1140, 1141, 1142, 1143, 1144, 1145, 1146, 1147, 1148, 1149, 1150, 1151, 1152, 1153, 1154, 1155, 1156, 1157, 1158, 1159, 1160, 1161, 1162, 1163, 1164, 1165, 1166, 1167, 1168, 1169, 1170, 1171, 1172, 1173, 1174, 1175, 1176, 1177, 1178, 1179, 1180, 1181, 1182, 1183, 1184, 1185, 1186, 1187, 1188, 1189, 1190, 1191, 1192, 1193, 1194, 1195, 1196, 1197, 1198, 1199, 1200, 1201]\n",
      "      id_cliente   peso  colesterol     genero\n",
      "999         1000   61.2       133.5   Feminino\n",
      "1000        1001  152.9       193.5   Feminino\n",
      "1001        1002  135.2       194.2   Feminino\n",
      "1002        1003   50.7       125.5   Feminino\n",
      "1003        1004  196.9       248.7   Feminino\n",
      "...          ...    ...         ...        ...\n",
      "1596        1296  144.8       189.1   Feminino\n",
      "1597        1297  199.8       235.6  Masculino\n",
      "1598        1298  171.0       216.3  Masculino\n",
      "1599        1299   92.4       153.4   Feminino\n",
      "1600        1300  122.2       176.5   Feminino\n",
      "\n",
      "[602 rows x 4 columns]\n"
     ]
    },
    {
     "data": {
      "text/plain": [
       "(10000, 4)"
      ]
     },
     "execution_count": 9,
     "metadata": {},
     "output_type": "execute_result"
    }
   ],
   "source": [
    "# identificando e dropando linhas duplicadas\n",
    "# por se tratar de duplicacao, optou-se por excluir as linhas duplicadas do dataset para se trabalhar apenas com dados unicos\n",
    "\n",
    "ids_dados_clinicos_duplicados = df_dados_clinicos['id_cliente'].value_counts()\n",
    "ids_dados_clinicos_duplicados = ids_dados_clinicos_duplicados[ids_dados_clinicos_duplicados > 1].index.tolist()\n",
    "#fiz a consulta na tabela de todos os dados que aparecem mais de uma vez e adicionei a uma lista com o indice desses dados\n",
    "print(ids_dados_clinicos_duplicados)\n",
    "dados_clinicos_duplicados = df_dados_clinicos[df_dados_clinicos['id_cliente'].isin(ids_dados_clinicos_duplicados)]\n",
    "dados_clinicos_duplicados.sort_values(by='id_cliente')\n",
    "# com a lista criada eu fiz consulta no meu dataset das linhas que conicindem com minha lista de indices\n",
    "print(dados_clinicos_duplicados)\n",
    "df_dados_clinicos = df_dados_clinicos.drop_duplicates(subset='id_cliente', keep='first')\n",
    "df_dados_clinicos.shape\n",
    "# fiz o drop dos valores duplicados e verifiquei o novo shape\n"
   ]
  },
  {
   "cell_type": "code",
   "execution_count": 10,
   "id": "71d8da98",
   "metadata": {},
   "outputs": [
    {
     "data": {
      "text/html": [
       "<div>\n",
       "<style scoped>\n",
       "    .dataframe tbody tr th:only-of-type {\n",
       "        vertical-align: middle;\n",
       "    }\n",
       "\n",
       "    .dataframe tbody tr th {\n",
       "        vertical-align: top;\n",
       "    }\n",
       "\n",
       "    .dataframe thead th {\n",
       "        text-align: right;\n",
       "    }\n",
       "</style>\n",
       "<table border=\"1\" class=\"dataframe\">\n",
       "  <thead>\n",
       "    <tr style=\"text-align: right;\">\n",
       "      <th></th>\n",
       "      <th>index</th>\n",
       "      <th>0</th>\n",
       "    </tr>\n",
       "  </thead>\n",
       "  <tbody>\n",
       "    <tr>\n",
       "      <th>0</th>\n",
       "      <td>id_cliente</td>\n",
       "      <td>0</td>\n",
       "    </tr>\n",
       "    <tr>\n",
       "      <th>1</th>\n",
       "      <td>peso</td>\n",
       "      <td>13</td>\n",
       "    </tr>\n",
       "    <tr>\n",
       "      <th>2</th>\n",
       "      <td>colesterol</td>\n",
       "      <td>0</td>\n",
       "    </tr>\n",
       "    <tr>\n",
       "      <th>3</th>\n",
       "      <td>genero</td>\n",
       "      <td>10</td>\n",
       "    </tr>\n",
       "  </tbody>\n",
       "</table>\n",
       "</div>"
      ],
      "text/plain": [
       "        index   0\n",
       "0  id_cliente   0\n",
       "1        peso  13\n",
       "2  colesterol   0\n",
       "3      genero  10"
      ]
     },
     "execution_count": 10,
     "metadata": {},
     "output_type": "execute_result"
    }
   ],
   "source": [
    "# checando a quantidade de nulos por colunas\n",
    "df_dados_clinicos.isnull().sum().reset_index()\n",
    "\n",
    "#como pode ser observado há 10 dados nulos na colunas genereo e 13 na coluna peso"
   ]
  },
  {
   "cell_type": "code",
   "execution_count": 11,
   "id": "074f29e7",
   "metadata": {},
   "outputs": [
    {
     "data": {
      "text/html": [
       "<div>\n",
       "<style scoped>\n",
       "    .dataframe tbody tr th:only-of-type {\n",
       "        vertical-align: middle;\n",
       "    }\n",
       "\n",
       "    .dataframe tbody tr th {\n",
       "        vertical-align: top;\n",
       "    }\n",
       "\n",
       "    .dataframe thead th {\n",
       "        text-align: right;\n",
       "    }\n",
       "</style>\n",
       "<table border=\"1\" class=\"dataframe\">\n",
       "  <thead>\n",
       "    <tr style=\"text-align: right;\">\n",
       "      <th></th>\n",
       "      <th>index</th>\n",
       "      <th>0</th>\n",
       "    </tr>\n",
       "  </thead>\n",
       "  <tbody>\n",
       "    <tr>\n",
       "      <th>0</th>\n",
       "      <td>id_cliente</td>\n",
       "      <td>0</td>\n",
       "    </tr>\n",
       "    <tr>\n",
       "      <th>1</th>\n",
       "      <td>peso</td>\n",
       "      <td>0</td>\n",
       "    </tr>\n",
       "    <tr>\n",
       "      <th>2</th>\n",
       "      <td>colesterol</td>\n",
       "      <td>0</td>\n",
       "    </tr>\n",
       "    <tr>\n",
       "      <th>3</th>\n",
       "      <td>genero</td>\n",
       "      <td>0</td>\n",
       "    </tr>\n",
       "  </tbody>\n",
       "</table>\n",
       "</div>"
      ],
      "text/plain": [
       "        index  0\n",
       "0  id_cliente  0\n",
       "1        peso  0\n",
       "2  colesterol  0\n",
       "3      genero  0"
      ]
     },
     "execution_count": 11,
     "metadata": {},
     "output_type": "execute_result"
    }
   ],
   "source": [
    "# tratando os dados nulos com mediana, caso a coluna seja numeriaca e com a moda caso seja categorica\n",
    "\n",
    "for coluna in df_dados_clinicos.select_dtypes(include=['float64', 'int64']):\n",
    "    mediana = df_dados_clinicos[coluna].median()\n",
    "    df_dados_clinicos[coluna] = df_dados_clinicos[coluna].fillna(mediana)\n",
    "\n",
    "for coluna in df_dados_clinicos.select_dtypes(include=['object']):\n",
    "    moda = df_dados_clinicos[coluna].mode()[0]\n",
    "    df_dados_clinicos[coluna] = df_dados_clinicos[coluna].fillna(moda)\n",
    "\n",
    "df_dados_clinicos.isnull().sum().reset_index()\n"
   ]
  },
  {
   "cell_type": "markdown",
   "id": "510b6d57",
   "metadata": {},
   "source": [
    "### 2.2 Analise e Tratamento dataset: Dados Paciente"
   ]
  },
  {
   "cell_type": "code",
   "execution_count": 12,
   "id": "364f0108",
   "metadata": {},
   "outputs": [
    {
     "data": {
      "text/html": [
       "<div>\n",
       "<style scoped>\n",
       "    .dataframe tbody tr th:only-of-type {\n",
       "        vertical-align: middle;\n",
       "    }\n",
       "\n",
       "    .dataframe tbody tr th {\n",
       "        vertical-align: top;\n",
       "    }\n",
       "\n",
       "    .dataframe thead th {\n",
       "        text-align: right;\n",
       "    }\n",
       "</style>\n",
       "<table border=\"1\" class=\"dataframe\">\n",
       "  <thead>\n",
       "    <tr style=\"text-align: right;\">\n",
       "      <th></th>\n",
       "      <th>ï»¿id_cliente</th>\n",
       "      <th>idade</th>\n",
       "      <th>classe_trabalho</th>\n",
       "      <th>escolaridade</th>\n",
       "      <th>id_estado</th>\n",
       "      <th>estado_civil</th>\n",
       "      <th>raca</th>\n",
       "      <th>qtde_filhos</th>\n",
       "      <th>salario</th>\n",
       "    </tr>\n",
       "  </thead>\n",
       "  <tbody>\n",
       "    <tr>\n",
       "      <th>0</th>\n",
       "      <td>1</td>\n",
       "      <td>39</td>\n",
       "      <td>Servidor PÃºblico</td>\n",
       "      <td>Ensino MÃ©dio Completo</td>\n",
       "      <td>2</td>\n",
       "      <td>Solteiro</td>\n",
       "      <td>Branco</td>\n",
       "      <td>2.0</td>\n",
       "      <td>4754</td>\n",
       "    </tr>\n",
       "    <tr>\n",
       "      <th>1</th>\n",
       "      <td>2</td>\n",
       "      <td>50</td>\n",
       "      <td>AutÃ´nomo</td>\n",
       "      <td>Superior Incompleto</td>\n",
       "      <td>24</td>\n",
       "      <td>Casado</td>\n",
       "      <td>Branco</td>\n",
       "      <td>1.0</td>\n",
       "      <td>3923</td>\n",
       "    </tr>\n",
       "    <tr>\n",
       "      <th>2</th>\n",
       "      <td>3</td>\n",
       "      <td>38</td>\n",
       "      <td>FuncionÃ¡rio Setor Privado</td>\n",
       "      <td>Ensino MÃ©dio Incompleto</td>\n",
       "      <td>4</td>\n",
       "      <td>Divorciado</td>\n",
       "      <td>Branco</td>\n",
       "      <td>0.0</td>\n",
       "      <td>1100</td>\n",
       "    </tr>\n",
       "    <tr>\n",
       "      <th>3</th>\n",
       "      <td>4</td>\n",
       "      <td>53</td>\n",
       "      <td>FuncionÃ¡rio Setor Privado</td>\n",
       "      <td>Ensino MÃ©dio Incompleto</td>\n",
       "      <td>24</td>\n",
       "      <td>Casado</td>\n",
       "      <td>Negro</td>\n",
       "      <td>1.0</td>\n",
       "      <td>1100</td>\n",
       "    </tr>\n",
       "    <tr>\n",
       "      <th>4</th>\n",
       "      <td>5</td>\n",
       "      <td>28</td>\n",
       "      <td>FuncionÃ¡rio Setor Privado</td>\n",
       "      <td>Ensino MÃ©dio Completo</td>\n",
       "      <td>15</td>\n",
       "      <td>Casado</td>\n",
       "      <td>Negro</td>\n",
       "      <td>0.0</td>\n",
       "      <td>3430</td>\n",
       "    </tr>\n",
       "  </tbody>\n",
       "</table>\n",
       "</div>"
      ],
      "text/plain": [
       "   ï»¿id_cliente  idade             classe_trabalho              escolaridade  \\\n",
       "0              1     39           Servidor PÃºblico    Ensino MÃ©dio Completo   \n",
       "1              2     50                   AutÃ´nomo       Superior Incompleto   \n",
       "2              3     38  FuncionÃ¡rio Setor Privado  Ensino MÃ©dio Incompleto   \n",
       "3              4     53  FuncionÃ¡rio Setor Privado  Ensino MÃ©dio Incompleto   \n",
       "4              5     28  FuncionÃ¡rio Setor Privado    Ensino MÃ©dio Completo   \n",
       "\n",
       "   id_estado estado_civil    raca  qtde_filhos  salario  \n",
       "0          2     Solteiro  Branco          2.0     4754  \n",
       "1         24       Casado  Branco          1.0     3923  \n",
       "2          4   Divorciado  Branco          0.0     1100  \n",
       "3         24       Casado   Negro          1.0     1100  \n",
       "4         15       Casado   Negro          0.0     3430  "
      ]
     },
     "execution_count": 12,
     "metadata": {},
     "output_type": "execute_result"
    }
   ],
   "source": [
    "df_dados_pacientes.head()\n",
    "# observei que o encoding latin1 nao esta ideal para esses dados, vou usar o utf-8\n"
   ]
  },
  {
   "cell_type": "code",
   "execution_count": 13,
   "id": "e190bb29",
   "metadata": {},
   "outputs": [
    {
     "data": {
      "text/html": [
       "<div>\n",
       "<style scoped>\n",
       "    .dataframe tbody tr th:only-of-type {\n",
       "        vertical-align: middle;\n",
       "    }\n",
       "\n",
       "    .dataframe tbody tr th {\n",
       "        vertical-align: top;\n",
       "    }\n",
       "\n",
       "    .dataframe thead th {\n",
       "        text-align: right;\n",
       "    }\n",
       "</style>\n",
       "<table border=\"1\" class=\"dataframe\">\n",
       "  <thead>\n",
       "    <tr style=\"text-align: right;\">\n",
       "      <th></th>\n",
       "      <th>id_cliente</th>\n",
       "      <th>idade</th>\n",
       "      <th>classe_trabalho</th>\n",
       "      <th>escolaridade</th>\n",
       "      <th>id_estado</th>\n",
       "      <th>estado_civil</th>\n",
       "      <th>raca</th>\n",
       "      <th>qtde_filhos</th>\n",
       "      <th>salario</th>\n",
       "    </tr>\n",
       "  </thead>\n",
       "  <tbody>\n",
       "    <tr>\n",
       "      <th>0</th>\n",
       "      <td>1</td>\n",
       "      <td>39</td>\n",
       "      <td>Servidor Público</td>\n",
       "      <td>Ensino Médio Completo</td>\n",
       "      <td>2</td>\n",
       "      <td>Solteiro</td>\n",
       "      <td>Branco</td>\n",
       "      <td>2.0</td>\n",
       "      <td>4754</td>\n",
       "    </tr>\n",
       "    <tr>\n",
       "      <th>1</th>\n",
       "      <td>2</td>\n",
       "      <td>50</td>\n",
       "      <td>Autônomo</td>\n",
       "      <td>Superior Incompleto</td>\n",
       "      <td>24</td>\n",
       "      <td>Casado</td>\n",
       "      <td>Branco</td>\n",
       "      <td>1.0</td>\n",
       "      <td>3923</td>\n",
       "    </tr>\n",
       "    <tr>\n",
       "      <th>2</th>\n",
       "      <td>3</td>\n",
       "      <td>38</td>\n",
       "      <td>Funcionário Setor Privado</td>\n",
       "      <td>Ensino Médio Incompleto</td>\n",
       "      <td>4</td>\n",
       "      <td>Divorciado</td>\n",
       "      <td>Branco</td>\n",
       "      <td>0.0</td>\n",
       "      <td>1100</td>\n",
       "    </tr>\n",
       "    <tr>\n",
       "      <th>3</th>\n",
       "      <td>4</td>\n",
       "      <td>53</td>\n",
       "      <td>Funcionário Setor Privado</td>\n",
       "      <td>Ensino Médio Incompleto</td>\n",
       "      <td>24</td>\n",
       "      <td>Casado</td>\n",
       "      <td>Negro</td>\n",
       "      <td>1.0</td>\n",
       "      <td>1100</td>\n",
       "    </tr>\n",
       "    <tr>\n",
       "      <th>4</th>\n",
       "      <td>5</td>\n",
       "      <td>28</td>\n",
       "      <td>Funcionário Setor Privado</td>\n",
       "      <td>Ensino Médio Completo</td>\n",
       "      <td>15</td>\n",
       "      <td>Casado</td>\n",
       "      <td>Negro</td>\n",
       "      <td>0.0</td>\n",
       "      <td>3430</td>\n",
       "    </tr>\n",
       "  </tbody>\n",
       "</table>\n",
       "</div>"
      ],
      "text/plain": [
       "   id_cliente  idade            classe_trabalho             escolaridade  \\\n",
       "0           1     39           Servidor Público    Ensino Médio Completo   \n",
       "1           2     50                   Autônomo      Superior Incompleto   \n",
       "2           3     38  Funcionário Setor Privado  Ensino Médio Incompleto   \n",
       "3           4     53  Funcionário Setor Privado  Ensino Médio Incompleto   \n",
       "4           5     28  Funcionário Setor Privado    Ensino Médio Completo   \n",
       "\n",
       "   id_estado estado_civil    raca  qtde_filhos  salario  \n",
       "0          2     Solteiro  Branco          2.0     4754  \n",
       "1         24       Casado  Branco          1.0     3923  \n",
       "2          4   Divorciado  Branco          0.0     1100  \n",
       "3         24       Casado   Negro          1.0     1100  \n",
       "4         15       Casado   Negro          0.0     3430  "
      ]
     },
     "execution_count": 13,
     "metadata": {},
     "output_type": "execute_result"
    }
   ],
   "source": [
    "df_dados_pacientes = pd.read_csv('../data/dados_pacientes.csv', \n",
    "                                sep=';', \n",
    "                                encoding='utf-8')\n",
    "\n",
    "df_dados_pacientes.head()"
   ]
  },
  {
   "cell_type": "code",
   "execution_count": 14,
   "id": "ae79b12f",
   "metadata": {},
   "outputs": [
    {
     "data": {
      "text/plain": [
       "(8084, 9)"
      ]
     },
     "execution_count": 14,
     "metadata": {},
     "output_type": "execute_result"
    }
   ],
   "source": [
    "df_dados_pacientes.shape\n",
    "#observado pelo shape que se trata de 8084 linhas e 9 colunas"
   ]
  },
  {
   "cell_type": "code",
   "execution_count": 15,
   "id": "76d32d62",
   "metadata": {},
   "outputs": [
    {
     "name": "stdout",
     "output_type": "stream",
     "text": [
      "<class 'pandas.core.frame.DataFrame'>\n",
      "RangeIndex: 8084 entries, 0 to 8083\n",
      "Data columns (total 9 columns):\n",
      " #   Column           Non-Null Count  Dtype  \n",
      "---  ------           --------------  -----  \n",
      " 0   id_cliente       8084 non-null   int64  \n",
      " 1   idade            8084 non-null   int64  \n",
      " 2   classe_trabalho  7690 non-null   object \n",
      " 3   escolaridade     8084 non-null   object \n",
      " 4   id_estado        8084 non-null   int64  \n",
      " 5   estado_civil     8084 non-null   object \n",
      " 6   raca             8084 non-null   object \n",
      " 7   qtde_filhos      8074 non-null   float64\n",
      " 8   salario          8084 non-null   int64  \n",
      "dtypes: float64(1), int64(4), object(4)\n",
      "memory usage: 568.5+ KB\n"
     ]
    }
   ],
   "source": [
    "# pelo info foi verificado que há dados nulos no dataset\n",
    "df_dados_pacientes.info()"
   ]
  },
  {
   "cell_type": "code",
   "execution_count": 16,
   "id": "4a4f3263",
   "metadata": {},
   "outputs": [
    {
     "name": "stdout",
     "output_type": "stream",
     "text": [
      "85\n"
     ]
    }
   ],
   "source": [
    "# Checando linhas duplicadas\n",
    "# Verificando duplicação por id_cliente\n",
    "\n",
    "print(df_dados_pacientes['id_cliente'].duplicated().sum())\n",
    "\n",
    "# foi observado 85 linhas"
   ]
  },
  {
   "cell_type": "code",
   "execution_count": 17,
   "id": "afc23429",
   "metadata": {},
   "outputs": [
    {
     "name": "stdout",
     "output_type": "stream",
     "text": [
      "[511, 512, 513, 514, 515, 516, 517, 518, 519, 520, 521, 522, 523, 524, 525, 526, 527, 528, 529, 530, 531, 532, 533, 534, 535, 536, 537, 538, 539, 540, 541, 542, 543, 544, 545, 546, 547, 548, 549, 550, 551, 552, 553, 554, 555, 556, 472, 473, 474, 475, 476, 477, 478, 479, 480, 481, 482, 483, 484, 485, 486, 487, 488, 489, 490, 491, 492, 493, 494, 495, 496, 497, 498, 499, 500, 501, 502, 503, 504, 505, 506, 507, 508, 509, 510]\n",
      "     id_cliente  idade            classe_trabalho  \\\n",
      "471         472     17             Menor Aprendiz   \n",
      "472         473     22  Funcionário Setor Privado   \n",
      "473         474     27  Funcionário Setor Privado   \n",
      "474         475     23  Funcionário Setor Privado   \n",
      "475         476     33  Funcionário Setor Privado   \n",
      "..          ...    ...                        ...   \n",
      "636         552     30  Funcionário Setor Privado   \n",
      "637         553     28  Funcionário Setor Privado   \n",
      "638         554     54  Funcionário Setor Privado   \n",
      "639         555     47  Funcionário Setor Privado   \n",
      "640         556     24  Funcionário Setor Privado   \n",
      "\n",
      "                    escolaridade  id_estado estado_civil    raca  qtde_filhos  \\\n",
      "471  Ensino Fundamental Completo         15     Solteiro  Branco          0.0   \n",
      "472        Ensino Médio Completo         17     Solteiro  Branco          4.0   \n",
      "473  Ensino Fundamental Completo         14     Solteiro  Branco          0.0   \n",
      "474      Ensino Médio Incompleto          5     Solteiro  Branco          5.0   \n",
      "475        Ensino Médio Completo         16       Casado  Branco          1.0   \n",
      "..                           ...        ...          ...     ...          ...   \n",
      "636      Ensino Médio Incompleto          9       Casado  Branco          0.0   \n",
      "637        Ensino Médio Completo          7     Solteiro  Branco          5.0   \n",
      "638        Ensino Médio Completo         10       Casado  Branco          5.0   \n",
      "639        Ensino Médio Completo         13       Casado  Branco          1.0   \n",
      "640      Ensino Médio Incompleto          7     Solteiro   Negro          0.0   \n",
      "\n",
      "     salario  \n",
      "471     1100  \n",
      "472     3150  \n",
      "473     1100  \n",
      "474     1100  \n",
      "475     2656  \n",
      "..       ...  \n",
      "636     1100  \n",
      "637     2046  \n",
      "638     3518  \n",
      "639     3454  \n",
      "640     1100  \n",
      "\n",
      "[170 rows x 9 columns]\n"
     ]
    },
    {
     "data": {
      "text/plain": [
       "(7999, 9)"
      ]
     },
     "execution_count": 17,
     "metadata": {},
     "output_type": "execute_result"
    }
   ],
   "source": [
    "# identificando e dropando linhas duplicadas\n",
    "# por se tratar de duplicacao, optou-se por excluir as linhas duplicadas do dataset para se trabalhar apenas com dados unicos\n",
    "\n",
    "ids_dados_pacientes_duplicados = df_dados_pacientes['id_cliente'].value_counts()\n",
    "ids_dados_pacientes_duplicados = ids_dados_pacientes_duplicados[ids_dados_pacientes_duplicados > 1].index.tolist()\n",
    "#fiz a consulta na tabela de todos os dados que aparecem mais de uma vez e adicionei a uma lista com o indice desses dados\n",
    "print(ids_dados_pacientes_duplicados)\n",
    "dados_pacientes_duplicados = df_dados_pacientes[df_dados_pacientes['id_cliente'].isin(ids_dados_pacientes_duplicados)]\n",
    "dados_pacientes_duplicados.sort_values(by='id_cliente')\n",
    "# com a lista criada eu fiz consulta no meu dataset das linhas que conicindem com minha lista de indices\n",
    "print(dados_pacientes_duplicados)\n",
    "df_dados_pacientes = df_dados_pacientes.drop_duplicates(subset='id_cliente', keep='first')\n",
    "df_dados_pacientes.shape\n",
    "# fiz o drop dos valores duplicados e verifiquei o novo shape\n"
   ]
  },
  {
   "cell_type": "code",
   "execution_count": 18,
   "id": "d18f06e8",
   "metadata": {},
   "outputs": [
    {
     "data": {
      "text/html": [
       "<div>\n",
       "<style scoped>\n",
       "    .dataframe tbody tr th:only-of-type {\n",
       "        vertical-align: middle;\n",
       "    }\n",
       "\n",
       "    .dataframe tbody tr th {\n",
       "        vertical-align: top;\n",
       "    }\n",
       "\n",
       "    .dataframe thead th {\n",
       "        text-align: right;\n",
       "    }\n",
       "</style>\n",
       "<table border=\"1\" class=\"dataframe\">\n",
       "  <thead>\n",
       "    <tr style=\"text-align: right;\">\n",
       "      <th></th>\n",
       "      <th>index</th>\n",
       "      <th>0</th>\n",
       "    </tr>\n",
       "  </thead>\n",
       "  <tbody>\n",
       "    <tr>\n",
       "      <th>0</th>\n",
       "      <td>id_cliente</td>\n",
       "      <td>0</td>\n",
       "    </tr>\n",
       "    <tr>\n",
       "      <th>1</th>\n",
       "      <td>idade</td>\n",
       "      <td>0</td>\n",
       "    </tr>\n",
       "    <tr>\n",
       "      <th>2</th>\n",
       "      <td>classe_trabalho</td>\n",
       "      <td>387</td>\n",
       "    </tr>\n",
       "    <tr>\n",
       "      <th>3</th>\n",
       "      <td>escolaridade</td>\n",
       "      <td>0</td>\n",
       "    </tr>\n",
       "    <tr>\n",
       "      <th>4</th>\n",
       "      <td>id_estado</td>\n",
       "      <td>0</td>\n",
       "    </tr>\n",
       "    <tr>\n",
       "      <th>5</th>\n",
       "      <td>estado_civil</td>\n",
       "      <td>0</td>\n",
       "    </tr>\n",
       "    <tr>\n",
       "      <th>6</th>\n",
       "      <td>raca</td>\n",
       "      <td>0</td>\n",
       "    </tr>\n",
       "    <tr>\n",
       "      <th>7</th>\n",
       "      <td>qtde_filhos</td>\n",
       "      <td>10</td>\n",
       "    </tr>\n",
       "    <tr>\n",
       "      <th>8</th>\n",
       "      <td>salario</td>\n",
       "      <td>0</td>\n",
       "    </tr>\n",
       "  </tbody>\n",
       "</table>\n",
       "</div>"
      ],
      "text/plain": [
       "             index    0\n",
       "0       id_cliente    0\n",
       "1            idade    0\n",
       "2  classe_trabalho  387\n",
       "3     escolaridade    0\n",
       "4        id_estado    0\n",
       "5     estado_civil    0\n",
       "6             raca    0\n",
       "7      qtde_filhos   10\n",
       "8          salario    0"
      ]
     },
     "execution_count": 18,
     "metadata": {},
     "output_type": "execute_result"
    }
   ],
   "source": [
    "# checando a quantidade de nulos por colunas\n",
    "df_dados_pacientes.isnull().sum().reset_index()\n",
    "\n",
    "#como pode ser observado há 387 dados nulos na colunas classe trabalho e 10 na coluna qtd-filhos"
   ]
  },
  {
   "cell_type": "code",
   "execution_count": 19,
   "id": "6efa7ade",
   "metadata": {},
   "outputs": [
    {
     "data": {
      "text/html": [
       "<div>\n",
       "<style scoped>\n",
       "    .dataframe tbody tr th:only-of-type {\n",
       "        vertical-align: middle;\n",
       "    }\n",
       "\n",
       "    .dataframe tbody tr th {\n",
       "        vertical-align: top;\n",
       "    }\n",
       "\n",
       "    .dataframe thead th {\n",
       "        text-align: right;\n",
       "    }\n",
       "</style>\n",
       "<table border=\"1\" class=\"dataframe\">\n",
       "  <thead>\n",
       "    <tr style=\"text-align: right;\">\n",
       "      <th></th>\n",
       "      <th>index</th>\n",
       "      <th>0</th>\n",
       "    </tr>\n",
       "  </thead>\n",
       "  <tbody>\n",
       "    <tr>\n",
       "      <th>0</th>\n",
       "      <td>id_cliente</td>\n",
       "      <td>0</td>\n",
       "    </tr>\n",
       "    <tr>\n",
       "      <th>1</th>\n",
       "      <td>idade</td>\n",
       "      <td>0</td>\n",
       "    </tr>\n",
       "    <tr>\n",
       "      <th>2</th>\n",
       "      <td>classe_trabalho</td>\n",
       "      <td>0</td>\n",
       "    </tr>\n",
       "    <tr>\n",
       "      <th>3</th>\n",
       "      <td>escolaridade</td>\n",
       "      <td>0</td>\n",
       "    </tr>\n",
       "    <tr>\n",
       "      <th>4</th>\n",
       "      <td>id_estado</td>\n",
       "      <td>0</td>\n",
       "    </tr>\n",
       "    <tr>\n",
       "      <th>5</th>\n",
       "      <td>estado_civil</td>\n",
       "      <td>0</td>\n",
       "    </tr>\n",
       "    <tr>\n",
       "      <th>6</th>\n",
       "      <td>raca</td>\n",
       "      <td>0</td>\n",
       "    </tr>\n",
       "    <tr>\n",
       "      <th>7</th>\n",
       "      <td>qtde_filhos</td>\n",
       "      <td>0</td>\n",
       "    </tr>\n",
       "    <tr>\n",
       "      <th>8</th>\n",
       "      <td>salario</td>\n",
       "      <td>0</td>\n",
       "    </tr>\n",
       "  </tbody>\n",
       "</table>\n",
       "</div>"
      ],
      "text/plain": [
       "             index  0\n",
       "0       id_cliente  0\n",
       "1            idade  0\n",
       "2  classe_trabalho  0\n",
       "3     escolaridade  0\n",
       "4        id_estado  0\n",
       "5     estado_civil  0\n",
       "6             raca  0\n",
       "7      qtde_filhos  0\n",
       "8          salario  0"
      ]
     },
     "execution_count": 19,
     "metadata": {},
     "output_type": "execute_result"
    }
   ],
   "source": [
    "# tratando os dados nulos com mediana, caso a coluna seja numeriaca e com a moda caso seja categorica\n",
    "\n",
    "for coluna in df_dados_pacientes.select_dtypes(include=['float64', 'int64']):\n",
    "    mediana = df_dados_pacientes[coluna].median()\n",
    "    df_dados_pacientes[coluna] = df_dados_pacientes[coluna].fillna(mediana)\n",
    "\n",
    "for coluna in df_dados_pacientes.select_dtypes(include=['object']):\n",
    "    moda = df_dados_pacientes[coluna].mode()[0]\n",
    "    df_dados_pacientes[coluna] = df_dados_pacientes[coluna].fillna(moda)\n",
    "\n",
    "df_dados_pacientes.isnull().sum().reset_index()"
   ]
  },
  {
   "cell_type": "markdown",
   "id": "1dc82d5f",
   "metadata": {},
   "source": [
    "### 2.3 Analise e Tratamento dataset: Dados Estado Regiao"
   ]
  },
  {
   "cell_type": "code",
   "execution_count": 20,
   "id": "599996f4",
   "metadata": {},
   "outputs": [
    {
     "data": {
      "text/html": [
       "<div>\n",
       "<style scoped>\n",
       "    .dataframe tbody tr th:only-of-type {\n",
       "        vertical-align: middle;\n",
       "    }\n",
       "\n",
       "    .dataframe tbody tr th {\n",
       "        vertical-align: top;\n",
       "    }\n",
       "\n",
       "    .dataframe thead th {\n",
       "        text-align: right;\n",
       "    }\n",
       "</style>\n",
       "<table border=\"1\" class=\"dataframe\">\n",
       "  <thead>\n",
       "    <tr style=\"text-align: right;\">\n",
       "      <th></th>\n",
       "      <th>id_estado</th>\n",
       "      <th>sigla</th>\n",
       "      <th>estado</th>\n",
       "      <th>regiao</th>\n",
       "      <th>pais</th>\n",
       "    </tr>\n",
       "  </thead>\n",
       "  <tbody>\n",
       "    <tr>\n",
       "      <th>0</th>\n",
       "      <td>1</td>\n",
       "      <td>AC</td>\n",
       "      <td>Acre</td>\n",
       "      <td>Norte</td>\n",
       "      <td>Brasil</td>\n",
       "    </tr>\n",
       "    <tr>\n",
       "      <th>1</th>\n",
       "      <td>2</td>\n",
       "      <td>AL</td>\n",
       "      <td>Alagoas</td>\n",
       "      <td>Nordeste</td>\n",
       "      <td>Brasil</td>\n",
       "    </tr>\n",
       "    <tr>\n",
       "      <th>2</th>\n",
       "      <td>3</td>\n",
       "      <td>AP</td>\n",
       "      <td>Amapá</td>\n",
       "      <td>Norte</td>\n",
       "      <td>Brasil</td>\n",
       "    </tr>\n",
       "    <tr>\n",
       "      <th>3</th>\n",
       "      <td>4</td>\n",
       "      <td>AM</td>\n",
       "      <td>Amazonas</td>\n",
       "      <td>Norte</td>\n",
       "      <td>Brasil</td>\n",
       "    </tr>\n",
       "    <tr>\n",
       "      <th>4</th>\n",
       "      <td>5</td>\n",
       "      <td>BA</td>\n",
       "      <td>Bahia</td>\n",
       "      <td>Nordeste</td>\n",
       "      <td>Brasil</td>\n",
       "    </tr>\n",
       "  </tbody>\n",
       "</table>\n",
       "</div>"
      ],
      "text/plain": [
       "   id_estado sigla    estado    regiao    pais\n",
       "0          1    AC      Acre     Norte  Brasil\n",
       "1          2    AL   Alagoas  Nordeste  Brasil\n",
       "2          3    AP     Amapá     Norte  Brasil\n",
       "3          4    AM  Amazonas     Norte  Brasil\n",
       "4          5    BA     Bahia  Nordeste  Brasil"
      ]
     },
     "execution_count": 20,
     "metadata": {},
     "output_type": "execute_result"
    }
   ],
   "source": [
    "df_dados_estado.head()"
   ]
  },
  {
   "cell_type": "code",
   "execution_count": 21,
   "id": "e9b7ae58",
   "metadata": {},
   "outputs": [
    {
     "data": {
      "text/plain": [
       "(36, 5)"
      ]
     },
     "execution_count": 21,
     "metadata": {},
     "output_type": "execute_result"
    }
   ],
   "source": [
    "df_dados_estado.shape\n",
    "# observado 36 linhas e 5 colunas"
   ]
  },
  {
   "cell_type": "code",
   "execution_count": 22,
   "id": "92dbca05",
   "metadata": {},
   "outputs": [
    {
     "name": "stdout",
     "output_type": "stream",
     "text": [
      "<class 'pandas.core.frame.DataFrame'>\n",
      "RangeIndex: 36 entries, 0 to 35\n",
      "Data columns (total 5 columns):\n",
      " #   Column     Non-Null Count  Dtype \n",
      "---  ------     --------------  ----- \n",
      " 0   id_estado  36 non-null     int64 \n",
      " 1   sigla      36 non-null     object\n",
      " 2   estado     36 non-null     object\n",
      " 3   regiao     36 non-null     object\n",
      " 4   pais       36 non-null     object\n",
      "dtypes: int64(1), object(4)\n",
      "memory usage: 1.5+ KB\n"
     ]
    }
   ],
   "source": [
    "# pelo info foi verificado que não há dados nulos no dataset\n",
    "df_dados_estado.info()"
   ]
  },
  {
   "cell_type": "code",
   "execution_count": 23,
   "id": "930a9c89",
   "metadata": {},
   "outputs": [
    {
     "name": "stdout",
     "output_type": "stream",
     "text": [
      "9\n"
     ]
    }
   ],
   "source": [
    "# Checando linhas duplicadas\n",
    "# Verificando duplicação por id_estado  \n",
    "\n",
    "print(df_dados_estado['id_estado'].duplicated().sum())\n",
    "\n",
    "# foi observado 9 linhas"
   ]
  },
  {
   "cell_type": "code",
   "execution_count": 24,
   "id": "ae7fc111",
   "metadata": {},
   "outputs": [
    {
     "name": "stdout",
     "output_type": "stream",
     "text": [
      "[10, 11, 12, 15, 18, 17, 16, 13, 14]\n",
      "    id_estado sigla              estado        regiao    pais\n",
      "9          10    MA            Maranhão      Nordeste  Brasil\n",
      "10         11    MT         Mato Grosso  Centro-Oeste  Brasil\n",
      "11         12    MS  Mato Grosso do Sul  Centro-Oeste  Brasil\n",
      "12         13    MG        Minas Gerais       Sudeste  Brasil\n",
      "13         14    PA                Pará         Norte  Brasil\n",
      "14         15    PB             Paraíba      Nordeste  Brasil\n",
      "15         16    PR              Paraná           Sul  Brasil\n",
      "16         17    PE          Pernambuco      Nordeste  Brasil\n",
      "17         18    PI               Piauí      Nordeste  Brasil\n",
      "18         10    MA            Maranhão      Nordeste  Brasil\n",
      "19         11    MT         Mato Grosso  Centro-Oeste  Brasil\n",
      "20         12    MS  Mato Grosso do Sul  Centro-Oeste  Brasil\n",
      "21         13    MG        Minas Gerais       Sudeste  Brasil\n",
      "22         14    PA                Pará         Norte  Brasil\n",
      "23         15    PB             Paraíba      Nordeste  Brasil\n",
      "24         16    PR              Paraná           Sul  Brasil\n",
      "25         17    PE          Pernambuco      Nordeste  Brasil\n",
      "26         18    PI               Piauí      Nordeste  Brasil\n"
     ]
    },
    {
     "data": {
      "text/plain": [
       "(27, 5)"
      ]
     },
     "execution_count": 24,
     "metadata": {},
     "output_type": "execute_result"
    }
   ],
   "source": [
    "# identificando e dropando linhas duplicadas\n",
    "# por se tratar de duplicacao, optou-se por excluir as linhas duplicadas do dataset para se trabalhar apenas com dados unicos\n",
    "\n",
    "ids_dados_estado_duplicados = df_dados_estado['id_estado'].value_counts()\n",
    "ids_dados_estado_duplicados = ids_dados_estado_duplicados[ids_dados_estado_duplicados > 1].index.tolist()\n",
    "#fiz a consulta na tabela de todos os dados que aparecem mais de uma vez e adicionei a uma lista com o indice desses dados\n",
    "print(ids_dados_estado_duplicados)\n",
    "dados_estados_duplicados = df_dados_estado[df_dados_estado['id_estado'].isin(ids_dados_estado_duplicados)]\n",
    "dados_estados_duplicados.sort_values(by='id_estado')\n",
    "# com a lista criada eu fiz consulta no meu dataset das linhas que conicindem com minha lista de indices\n",
    "print(dados_estados_duplicados)\n",
    "df_dados_estado = df_dados_estado.drop_duplicates(subset='id_estado', keep='first')\n",
    "df_dados_estado.shape\n",
    "# fiz o drop dos valores duplicados e verifiquei o novo shape"
   ]
  },
  {
   "cell_type": "markdown",
   "id": "3069846b",
   "metadata": {},
   "source": [
    "### Montando base final unindo os três dataframes tratados"
   ]
  },
  {
   "cell_type": "code",
   "execution_count": 33,
   "id": "1c631925",
   "metadata": {},
   "outputs": [
    {
     "data": {
      "text/html": [
       "<div>\n",
       "<style scoped>\n",
       "    .dataframe tbody tr th:only-of-type {\n",
       "        vertical-align: middle;\n",
       "    }\n",
       "\n",
       "    .dataframe tbody tr th {\n",
       "        vertical-align: top;\n",
       "    }\n",
       "\n",
       "    .dataframe thead th {\n",
       "        text-align: right;\n",
       "    }\n",
       "</style>\n",
       "<table border=\"1\" class=\"dataframe\">\n",
       "  <thead>\n",
       "    <tr style=\"text-align: right;\">\n",
       "      <th></th>\n",
       "      <th>id_cliente</th>\n",
       "      <th>idade</th>\n",
       "      <th>classe_trabalho</th>\n",
       "      <th>escolaridade</th>\n",
       "      <th>id_estado</th>\n",
       "      <th>estado_civil</th>\n",
       "      <th>raca</th>\n",
       "      <th>qtde_filhos</th>\n",
       "      <th>salario</th>\n",
       "      <th>peso</th>\n",
       "      <th>colesterol</th>\n",
       "      <th>genero</th>\n",
       "      <th>sigla</th>\n",
       "      <th>estado</th>\n",
       "      <th>regiao</th>\n",
       "      <th>pais</th>\n",
       "    </tr>\n",
       "  </thead>\n",
       "  <tbody>\n",
       "    <tr>\n",
       "      <th>0</th>\n",
       "      <td>1</td>\n",
       "      <td>39</td>\n",
       "      <td>Servidor Público</td>\n",
       "      <td>Ensino Médio Completo</td>\n",
       "      <td>2</td>\n",
       "      <td>Solteiro</td>\n",
       "      <td>Branco</td>\n",
       "      <td>2.0</td>\n",
       "      <td>4754</td>\n",
       "      <td>152.7</td>\n",
       "      <td>203.9</td>\n",
       "      <td>Masculino</td>\n",
       "      <td>AL</td>\n",
       "      <td>Alagoas</td>\n",
       "      <td>Nordeste</td>\n",
       "      <td>Brasil</td>\n",
       "    </tr>\n",
       "    <tr>\n",
       "      <th>1</th>\n",
       "      <td>2</td>\n",
       "      <td>50</td>\n",
       "      <td>Autônomo</td>\n",
       "      <td>Superior Incompleto</td>\n",
       "      <td>24</td>\n",
       "      <td>Casado</td>\n",
       "      <td>Branco</td>\n",
       "      <td>1.0</td>\n",
       "      <td>3923</td>\n",
       "      <td>184.8</td>\n",
       "      <td>233.8</td>\n",
       "      <td>Masculino</td>\n",
       "      <td>SC</td>\n",
       "      <td>Santa Catarina</td>\n",
       "      <td>Sul</td>\n",
       "      <td>Brasil</td>\n",
       "    </tr>\n",
       "    <tr>\n",
       "      <th>2</th>\n",
       "      <td>3</td>\n",
       "      <td>38</td>\n",
       "      <td>Funcionário Setor Privado</td>\n",
       "      <td>Ensino Médio Incompleto</td>\n",
       "      <td>4</td>\n",
       "      <td>Divorciado</td>\n",
       "      <td>Branco</td>\n",
       "      <td>0.0</td>\n",
       "      <td>1100</td>\n",
       "      <td>152.1</td>\n",
       "      <td>210.4</td>\n",
       "      <td>Masculino</td>\n",
       "      <td>AM</td>\n",
       "      <td>Amazonas</td>\n",
       "      <td>Norte</td>\n",
       "      <td>Brasil</td>\n",
       "    </tr>\n",
       "    <tr>\n",
       "      <th>3</th>\n",
       "      <td>4</td>\n",
       "      <td>53</td>\n",
       "      <td>Funcionário Setor Privado</td>\n",
       "      <td>Ensino Médio Incompleto</td>\n",
       "      <td>24</td>\n",
       "      <td>Casado</td>\n",
       "      <td>Negro</td>\n",
       "      <td>1.0</td>\n",
       "      <td>1100</td>\n",
       "      <td>139.8</td>\n",
       "      <td>196.8</td>\n",
       "      <td>Masculino</td>\n",
       "      <td>SC</td>\n",
       "      <td>Santa Catarina</td>\n",
       "      <td>Sul</td>\n",
       "      <td>Brasil</td>\n",
       "    </tr>\n",
       "    <tr>\n",
       "      <th>4</th>\n",
       "      <td>5</td>\n",
       "      <td>28</td>\n",
       "      <td>Funcionário Setor Privado</td>\n",
       "      <td>Ensino Médio Completo</td>\n",
       "      <td>15</td>\n",
       "      <td>Casado</td>\n",
       "      <td>Negro</td>\n",
       "      <td>0.0</td>\n",
       "      <td>3430</td>\n",
       "      <td>182.4</td>\n",
       "      <td>215.8</td>\n",
       "      <td>Feminino</td>\n",
       "      <td>PB</td>\n",
       "      <td>Paraíba</td>\n",
       "      <td>Nordeste</td>\n",
       "      <td>Brasil</td>\n",
       "    </tr>\n",
       "  </tbody>\n",
       "</table>\n",
       "</div>"
      ],
      "text/plain": [
       "   id_cliente  idade            classe_trabalho             escolaridade  \\\n",
       "0           1     39           Servidor Público    Ensino Médio Completo   \n",
       "1           2     50                   Autônomo      Superior Incompleto   \n",
       "2           3     38  Funcionário Setor Privado  Ensino Médio Incompleto   \n",
       "3           4     53  Funcionário Setor Privado  Ensino Médio Incompleto   \n",
       "4           5     28  Funcionário Setor Privado    Ensino Médio Completo   \n",
       "\n",
       "   id_estado estado_civil    raca  qtde_filhos  salario   peso  colesterol  \\\n",
       "0          2     Solteiro  Branco          2.0     4754  152.7       203.9   \n",
       "1         24       Casado  Branco          1.0     3923  184.8       233.8   \n",
       "2          4   Divorciado  Branco          0.0     1100  152.1       210.4   \n",
       "3         24       Casado   Negro          1.0     1100  139.8       196.8   \n",
       "4         15       Casado   Negro          0.0     3430  182.4       215.8   \n",
       "\n",
       "      genero sigla          estado    regiao    pais  \n",
       "0  Masculino    AL         Alagoas  Nordeste  Brasil  \n",
       "1  Masculino    SC  Santa Catarina       Sul  Brasil  \n",
       "2  Masculino    AM        Amazonas     Norte  Brasil  \n",
       "3  Masculino    SC  Santa Catarina       Sul  Brasil  \n",
       "4   Feminino    PB         Paraíba  Nordeste  Brasil  "
      ]
     },
     "execution_count": 33,
     "metadata": {},
     "output_type": "execute_result"
    }
   ],
   "source": [
    "# Montando base final unindo os três dataframes\n",
    "\n",
    "dados_parciais = pd.merge(\n",
    "    df_dados_pacientes,\n",
    "    df_dados_clinicos,\n",
    "    on='id_cliente',\n",
    "    how='left',\n",
    "    validate='1:1'\n",
    ")\n",
    "\n",
    "dados_finais = pd.merge(\n",
    "    dados_parciais,\n",
    "    df_dados_estado,\n",
    "    on='id_estado',\n",
    "    how='left',\n",
    "    validate='m:1'\n",
    ")\n",
    "\n",
    "dados_finais.head()\n",
    "\n",
    "#cria um arquivo com os dados finais\n",
    "#dados_finais.to_csv(\"dados_finais.csv\", index=False, encoding=\"utf-8\")"
   ]
  },
  {
   "cell_type": "markdown",
   "id": "5f9a4e9e",
   "metadata": {},
   "source": [
    "## Criar representações gráficas dos dados"
   ]
  },
  {
   "cell_type": "code",
   "execution_count": 26,
   "id": "05b30d63",
   "metadata": {},
   "outputs": [
    {
     "data": {
      "text/plain": [
       "<Axes: xlabel='idade', ylabel='Count'>"
      ]
     },
     "execution_count": 26,
     "metadata": {},
     "output_type": "execute_result"
    },
    {
     "data": {
      "image/png": "[encoded data removed]",
      "text/plain": [
       "<Figure size 1000x600 with 1 Axes>"
      ]
     },
     "metadata": {},
     "output_type": "display_data"
    }
   ],
   "source": [
    "# Histograma das idades de todas as pessoas que residem no estado de São Paulo e trabalham no setor privado.\n",
    "\n",
    "dados_finais['classe_trabalho'].unique()\n",
    "\n",
    "dados_sp_privado = dados_finais[\n",
    "    (dados_finais['sigla'] == 'SP') &\n",
    "    (dados_finais['classe_trabalho'] == 'Funcionário Setor Privado')\n",
    "]\n",
    "\n",
    "plt.figure(figsize=(10, 6))\n",
    "sns.histplot(\n",
    "    data=dados_sp_privado,\n",
    "    x='idade',\n",
    "    bins=20,\n",
    "    kde=False,\n",
    "    color='skyblue',\n",
    "    edgecolor='black'\n",
    ")"
   ]
  },
  {
   "cell_type": "code",
   "execution_count": 27,
   "id": "6e53b537",
   "metadata": {},
   "outputs": [
    {
     "data": {
      "text/plain": [
       "<Axes: xlabel='raca', ylabel='salario'>"
      ]
     },
     "execution_count": 27,
     "metadata": {},
     "output_type": "execute_result"
    },
    {
     "data": {
      "image/png": "[encoded data removed]",
      "text/plain": [
       "<Figure size 1200x600 with 1 Axes>"
      ]
     },
     "metadata": {},
     "output_type": "display_data"
    }
   ],
   "source": [
    "# Média salarial por raça\n",
    "media_salarial_por_raca = dados_finais.groupby('raca')['salario'].mean().reset_index()\n",
    "media_salarial_por_raca\n",
    "\n",
    "sns.set_theme(style='whitegrid')\n",
    "plt.figure(figsize=(12, 6))\n",
    "sns.barplot(\n",
    "    x='raca',\n",
    "    y='salario',\n",
    "    data=media_salarial_por_raca,\n",
    "    estimator='mean',\n",
    "    errorbar=None\n",
    ")"
   ]
  },
  {
   "cell_type": "code",
   "execution_count": 28,
   "id": "f846b4a5",
   "metadata": {},
   "outputs": [
    {
     "data": {
      "text/plain": [
       "<Axes: xlabel='raca', ylabel='total'>"
      ]
     },
     "execution_count": 28,
     "metadata": {},
     "output_type": "execute_result"
    },
    {
     "data": {
      "image/png": "[encoded data removed]",
      "text/plain": [
       "<Figure size 1000x500 with 1 Axes>"
      ]
     },
     "metadata": {},
     "output_type": "display_data"
    }
   ],
   "source": [
    "# Distribuição de residentes em Minas Gerais, por estado civil e raça\n",
    "\n",
    "df_mg = dados_finais[dados_finais['sigla'] == 'MG']\n",
    "contagem = df_mg.groupby(['estado_civil', 'raca']).size().reset_index(name='total')\n",
    "\n",
    "sns.set_theme(style='whitegrid')\n",
    "plt.figure(figsize=(10, 5))\n",
    "sns.barplot(\n",
    "    x='raca',\n",
    "    y='total',\n",
    "    hue='estado_civil',\n",
    "    data=contagem,\n",
    "    estimator=sum,\n",
    "    errorbar=None\n",
    ")"
   ]
  },
  {
   "cell_type": "code",
   "execution_count": 29,
   "id": "9002cc0a",
   "metadata": {},
   "outputs": [
    {
     "name": "stdout",
     "output_type": "stream",
     "text": [
      "206.95538461538462\n",
      "21.89061534825628\n"
     ]
    }
   ],
   "source": [
    "# Média e desvio padrão do colesterol de pessoas da região Sul com peso superior a 120kg.\n",
    "\n",
    "sulistas_peso_maior_120 = dados_finais[(dados_finais['peso'] > 120) & (dados_finais['regiao'] == 'Sul')]\n",
    "print(sulistas_peso_maior_120['colesterol'].mean())\n",
    "print(sulistas_peso_maior_120['colesterol'].std())"
   ]
  },
  {
   "cell_type": "code",
   "execution_count": 30,
   "id": "24df2f0a",
   "metadata": {},
   "outputs": [
    {
     "data": {
      "text/plain": [
       "<Axes: xlabel='peso', ylabel='colesterol'>"
      ]
     },
     "execution_count": 30,
     "metadata": {},
     "output_type": "execute_result"
    },
    {
     "data": {
      "image/png": "[encoded data removed]",
      "text/plain": [
       "<Figure size 1000x500 with 1 Axes>"
      ]
     },
     "metadata": {},
     "output_type": "display_data"
    }
   ],
   "source": [
    "# Peso x Colesterol das pessoas da região Sudeste por gênero.\n",
    "\n",
    "df = dados_finais[dados_finais['regiao'] == 'Sudeste']\n",
    "sns.set_theme(style='whitegrid')\n",
    "plt.figure(figsize=(10, 5))\n",
    "sns.scatterplot(\n",
    "    data=df,\n",
    "    x='peso',\n",
    "    y='colesterol',\n",
    "    hue='genero'\n",
    ")\n"
   ]
  },
  {
   "cell_type": "code",
   "execution_count": 34,
   "id": "062a6fbb",
   "metadata": {},
   "outputs": [
    {
     "data": {
      "text/plain": [
       "classe_trabalho\n",
       "Funcionário Setor Privado    5769\n",
       "Autônomo                      588\n",
       "Empresário                    496\n",
       "Servidor Público              299\n",
       "MEI                           275\n",
       "Aposentado                    267\n",
       "Funcionário Público           216\n",
       "Menor Aprendiz                 85\n",
       "Desempregado                    3\n",
       "Estagiário                      1\n",
       "Name: count, dtype: int64"
      ]
     },
     "execution_count": 34,
     "metadata": {},
     "output_type": "execute_result"
    }
   ],
   "source": [
    "# Classe de trabalho  com maior número de pessoas\n",
    "\n",
    "dados_finais['classe_trabalho'].value_counts()"
   ]
  },
  {
   "cell_type": "code",
   "execution_count": 35,
   "id": "4615e5f6",
   "metadata": {},
   "outputs": [
    {
     "data": {
      "text/html": [
       "<div>\n",
       "<style scoped>\n",
       "    .dataframe tbody tr th:only-of-type {\n",
       "        vertical-align: middle;\n",
       "    }\n",
       "\n",
       "    .dataframe tbody tr th {\n",
       "        vertical-align: top;\n",
       "    }\n",
       "\n",
       "    .dataframe thead th {\n",
       "        text-align: right;\n",
       "    }\n",
       "</style>\n",
       "<table border=\"1\" class=\"dataframe\">\n",
       "  <thead>\n",
       "    <tr style=\"text-align: right;\">\n",
       "      <th></th>\n",
       "      <th>classe_trabalho</th>\n",
       "      <th>salario</th>\n",
       "    </tr>\n",
       "  </thead>\n",
       "  <tbody>\n",
       "    <tr>\n",
       "      <th>2</th>\n",
       "      <td>Empresário</td>\n",
       "      <td>11871.600000</td>\n",
       "    </tr>\n",
       "    <tr>\n",
       "      <th>7</th>\n",
       "      <td>Servidor Público</td>\n",
       "      <td>6381.500000</td>\n",
       "    </tr>\n",
       "    <tr>\n",
       "      <th>3</th>\n",
       "      <td>Funcionário Público</td>\n",
       "      <td>6365.625000</td>\n",
       "    </tr>\n",
       "    <tr>\n",
       "      <th>0</th>\n",
       "      <td>Aposentado</td>\n",
       "      <td>4139.300000</td>\n",
       "    </tr>\n",
       "    <tr>\n",
       "      <th>5</th>\n",
       "      <td>MEI</td>\n",
       "      <td>4098.125000</td>\n",
       "    </tr>\n",
       "    <tr>\n",
       "      <th>1</th>\n",
       "      <td>Autônomo</td>\n",
       "      <td>2444.689655</td>\n",
       "    </tr>\n",
       "    <tr>\n",
       "      <th>4</th>\n",
       "      <td>Funcionário Setor Privado</td>\n",
       "      <td>2347.574661</td>\n",
       "    </tr>\n",
       "    <tr>\n",
       "      <th>6</th>\n",
       "      <td>Menor Aprendiz</td>\n",
       "      <td>1100.000000</td>\n",
       "    </tr>\n",
       "  </tbody>\n",
       "</table>\n",
       "</div>"
      ],
      "text/plain": [
       "             classe_trabalho       salario\n",
       "2                 Empresário  11871.600000\n",
       "7           Servidor Público   6381.500000\n",
       "3        Funcionário Público   6365.625000\n",
       "0                 Aposentado   4139.300000\n",
       "5                        MEI   4098.125000\n",
       "1                   Autônomo   2444.689655\n",
       "4  Funcionário Setor Privado   2347.574661\n",
       "6             Menor Aprendiz   1100.000000"
      ]
     },
     "execution_count": 35,
     "metadata": {},
     "output_type": "execute_result"
    }
   ],
   "source": [
    "# Classe de trabalho com maior média de salários para pessoas do PE\n",
    "\n",
    "df_pe = dados_finais[dados_finais['sigla'] == 'PE']\n",
    "df_pe.groupby('classe_trabalho')['salario'].mean().reset_index().sort_values(by='salario', ascending=False)"
   ]
  },
  {
   "cell_type": "code",
   "execution_count": 36,
   "id": "91e45c16",
   "metadata": {},
   "outputs": [
    {
     "data": {
      "text/plain": [
       "<Axes: xlabel='salario', ylabel='classe_trabalho'>"
      ]
     },
     "execution_count": 36,
     "metadata": {},
     "output_type": "execute_result"
    },
    {
     "data": {
      "image/png": "[encoded data removed]",
      "text/plain": [
       "<Figure size 1000x600 with 1 Axes>"
      ]
     },
     "metadata": {},
     "output_type": "display_data"
    }
   ],
   "source": [
    "\n",
    "\n",
    "# Boxplot salários por classe de trabalho\n",
    "\n",
    "sns.set_theme(style='whitegrid')\n",
    "plt.figure(figsize=(10, 6))\n",
    "sns.boxplot(\n",
    "    data=dados_finais,\n",
    "    y='classe_trabalho',\n",
    "    x='salario',\n",
    "    hue='classe_trabalho'\n",
    ")"
   ]
  },
  {
   "cell_type": "code",
   "execution_count": 37,
   "id": "213ad2fd",
   "metadata": {},
   "outputs": [
    {
     "data": {
      "text/plain": [
       "<Axes: xlabel='idade', ylabel='raca'>"
      ]
     },
     "execution_count": 37,
     "metadata": {},
     "output_type": "execute_result"
    },
    {
     "data": {
      "image/png": "[encoded data removed]",
      "text/plain": [
       "<Figure size 600x500 with 1 Axes>"
      ]
     },
     "metadata": {},
     "output_type": "display_data"
    }
   ],
   "source": [
    "# Boxplot idades por raça\n",
    "\n",
    "df_sudeste = dados_finais[dados_finais['regiao'] == 'Sudeste']\n",
    "sns.set_theme(style='ticks')\n",
    "plt.figure(figsize=(6, 5))\n",
    "sns.boxplot(\n",
    "    data=df_sudeste,\n",
    "    y='raca',\n",
    "    x='idade',\n",
    "    hue='raca'\n",
    ")"
   ]
  },
  {
   "cell_type": "code",
   "execution_count": 38,
   "id": "4fe88f58",
   "metadata": {},
   "outputs": [
    {
     "data": {
      "text/plain": [
       "np.float64(11025.0)"
      ]
     },
     "execution_count": 38,
     "metadata": {},
     "output_type": "execute_result"
    }
   ],
   "source": [
    "# Média salarial de pessoas casadas com Ensino Superior Completo que trabalham como Funcionários do Setor Privado\n",
    "\n",
    "dados_finais['escolaridade'].unique()\n",
    "dados_finais[\n",
    "    (dados_finais['estado_civil'] == 'Casado') &\n",
    "    (dados_finais['escolaridade'] == 'Superior Completo') &\n",
    "    (dados_finais['classe_trabalho'] == 'Funcionário Setor Privado')\n",
    "]['salario'].mean()"
   ]
  },
  {
   "cell_type": "code",
   "execution_count": 39,
   "id": "79e504f9",
   "metadata": {},
   "outputs": [
    {
     "data": {
      "text/html": [
       "<div>\n",
       "<style scoped>\n",
       "    .dataframe tbody tr th:only-of-type {\n",
       "        vertical-align: middle;\n",
       "    }\n",
       "\n",
       "    .dataframe tbody tr th {\n",
       "        vertical-align: top;\n",
       "    }\n",
       "\n",
       "    .dataframe thead th {\n",
       "        text-align: right;\n",
       "    }\n",
       "</style>\n",
       "<table border=\"1\" class=\"dataframe\">\n",
       "  <thead>\n",
       "    <tr style=\"text-align: right;\">\n",
       "      <th></th>\n",
       "      <th>estado_civil</th>\n",
       "      <th>qtde_filhos</th>\n",
       "    </tr>\n",
       "  </thead>\n",
       "  <tbody>\n",
       "    <tr>\n",
       "      <th>4</th>\n",
       "      <td>União Estável</td>\n",
       "      <td>284.0</td>\n",
       "    </tr>\n",
       "    <tr>\n",
       "      <th>5</th>\n",
       "      <td>Viúvo</td>\n",
       "      <td>583.0</td>\n",
       "    </tr>\n",
       "    <tr>\n",
       "      <th>2</th>\n",
       "      <td>Separado</td>\n",
       "      <td>669.0</td>\n",
       "    </tr>\n",
       "    <tr>\n",
       "      <th>1</th>\n",
       "      <td>Divorciado</td>\n",
       "      <td>2796.0</td>\n",
       "    </tr>\n",
       "    <tr>\n",
       "      <th>3</th>\n",
       "      <td>Solteiro</td>\n",
       "      <td>5713.0</td>\n",
       "    </tr>\n",
       "    <tr>\n",
       "      <th>0</th>\n",
       "      <td>Casado</td>\n",
       "      <td>9192.0</td>\n",
       "    </tr>\n",
       "  </tbody>\n",
       "</table>\n",
       "</div>"
      ],
      "text/plain": [
       "    estado_civil  qtde_filhos\n",
       "4  União Estável        284.0\n",
       "5          Viúvo        583.0\n",
       "2       Separado        669.0\n",
       "1     Divorciado       2796.0\n",
       "3       Solteiro       5713.0\n",
       "0         Casado       9192.0"
      ]
     },
     "execution_count": 39,
     "metadata": {},
     "output_type": "execute_result"
    }
   ],
   "source": [
    "# Estado civil com menor soma de quantidade de filhos\n",
    "\n",
    "dados_finais.groupby('estado_civil')['qtde_filhos'].sum().reset_index().sort_values(by='qtde_filhos', ascending=True)\n",
    "\n"
   ]
  }
 ],
 "metadata": {
  "kernelspec": {
   "display_name": "DADOSSAUDE",
   "language": "python",
   "name": "python3"
  },
  "language_info": {
   "codemirror_mode": {
    "name": "ipython",
    "version": 3
   },
   "file_extension": ".py",
   "mimetype": "text/x-python",
   "name": "python",
   "nbconvert_exporter": "python",
   "pygments_lexer": "ipython3",
   "version": "3.12.7"
  }
 },
 "nbformat": 4,
 "nbformat_minor": 5
}
