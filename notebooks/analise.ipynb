{
 "cells": [
  {
   "cell_type": "markdown",
   "id": "a13f66fa",
   "metadata": {},
   "source": [
    "# Analise do Dados"
   ]
  }
 ],
 "metadata": {
  "kernelspec": {
   "display_name": "DADOSSAUDE",
   "language": "python",
   "name": "python3"
  },
  "language_info": {
   "name": "python",
   "version": "3.12.7"
  }
 },
 "nbformat": 4,
 "nbformat_minor": 5
}
